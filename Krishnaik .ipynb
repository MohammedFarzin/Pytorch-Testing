{
 "cells": [
  {
   "cell_type": "code",
   "execution_count": 9,
   "id": "6afc747b",
   "metadata": {},
   "outputs": [
    {
     "data": {
      "text/plain": [
       "tensor([[ 9., 11., 13.],\n",
       "        [ 6.,  8., 10.],\n",
       "        [ 6.,  8., 10.]], dtype=torch.float64)"
      ]
     },
     "execution_count": 9,
     "metadata": {},
     "output_type": "execute_result"
    }
   ],
   "source": [
    "import torch\n",
    "a = torch.tensor([[3,4,5],[3,4,5],[3,4,5]], dtype=torch.float64)\n",
    "b = torch.tensor([[6,7,8],[3,4,5],[3,4,5]], dtype=torch.float64)\n",
    "a+b"
   ]
  },
  {
   "cell_type": "code",
   "execution_count": 10,
   "id": "06d96316",
   "metadata": {},
   "outputs": [
    {
     "data": {
      "text/plain": [
       "tensor([[ 9., 11., 13.],\n",
       "        [ 6.,  8., 10.],\n",
       "        [ 6.,  8., 10.]], dtype=torch.float64)"
      ]
     },
     "execution_count": 10,
     "metadata": {},
     "output_type": "execute_result"
    }
   ],
   "source": [
    "torch.add(a,b) "
   ]
  },
  {
   "cell_type": "code",
   "execution_count": 18,
   "id": "42d484a5",
   "metadata": {},
   "outputs": [],
   "source": [
    "c = torch.zeros(3,3)"
   ]
  },
  {
   "cell_type": "code",
   "execution_count": 19,
   "id": "db2366eb",
   "metadata": {},
   "outputs": [
    {
     "data": {
      "text/plain": [
       "tensor([[0., 0., 0.],\n",
       "        [0., 0., 0.],\n",
       "        [0., 0., 0.]])"
      ]
     },
     "execution_count": 19,
     "metadata": {},
     "output_type": "execute_result"
    }
   ],
   "source": [
    "c"
   ]
  },
  {
   "cell_type": "code",
   "execution_count": 20,
   "id": "a2ddf2ca",
   "metadata": {
    "scrolled": true
   },
   "outputs": [
    {
     "data": {
      "text/plain": [
       "tensor([[ 9., 11., 13.],\n",
       "        [ 6.,  8., 10.],\n",
       "        [ 6.,  8., 10.]])"
      ]
     },
     "execution_count": 20,
     "metadata": {},
     "output_type": "execute_result"
    }
   ],
   "source": [
    "torch.add(a,b, out=c)"
   ]
  },
  {
   "cell_type": "code",
   "execution_count": 21,
   "id": "cc093704",
   "metadata": {},
   "outputs": [],
   "source": [
    "n = torch.add(a,b)"
   ]
  },
  {
   "cell_type": "code",
   "execution_count": 22,
   "id": "9c96050b",
   "metadata": {},
   "outputs": [
    {
     "data": {
      "text/plain": [
       "tensor([[ 9., 11., 13.],\n",
       "        [ 6.,  8., 10.],\n",
       "        [ 6.,  8., 10.]], dtype=torch.float64)"
      ]
     },
     "execution_count": 22,
     "metadata": {},
     "output_type": "execute_result"
    }
   ],
   "source": [
    "n"
   ]
  },
  {
   "cell_type": "code",
   "execution_count": 23,
   "id": "19d8b4e3",
   "metadata": {},
   "outputs": [
    {
     "data": {
      "text/plain": [
       "tensor(81., dtype=torch.float64)"
      ]
     },
     "execution_count": 23,
     "metadata": {},
     "output_type": "execute_result"
    }
   ],
   "source": [
    "torch.add(a,b).sum()"
   ]
  },
  {
   "cell_type": "markdown",
   "id": "9ad39b5d",
   "metadata": {},
   "source": [
    "Dot products and multiple operation\n"
   ]
  },
  {
   "cell_type": "code",
   "execution_count": 25,
   "id": "26901acc",
   "metadata": {},
   "outputs": [],
   "source": [
    "x = torch.tensor([3,4,5], dtype=torch.float64)\n",
    "y = torch.tensor([6,7,8], dtype=torch.float64)"
   ]
  },
  {
   "cell_type": "code",
   "execution_count": 26,
   "id": "fe201775",
   "metadata": {},
   "outputs": [
    {
     "data": {
      "text/plain": [
       "tensor([18., 28., 40.], dtype=torch.float64)"
      ]
     },
     "execution_count": 26,
     "metadata": {},
     "output_type": "execute_result"
    }
   ],
   "source": [
    "x.mul(y)"
   ]
  },
  {
   "cell_type": "code",
   "execution_count": 27,
   "id": "c0eeb285",
   "metadata": {},
   "outputs": [
    {
     "data": {
      "text/plain": [
       "tensor(86., dtype=torch.float64)"
      ]
     },
     "execution_count": 27,
     "metadata": {},
     "output_type": "execute_result"
    }
   ],
   "source": [
    "x.dot(y)"
   ]
  },
  {
   "cell_type": "code",
   "execution_count": null,
   "id": "db732a12",
   "metadata": {},
   "outputs": [],
   "source": []
  }
 ],
 "metadata": {
  "kernelspec": {
   "display_name": "Python 3 (ipykernel)",
   "language": "python",
   "name": "python3"
  },
  "language_info": {
   "codemirror_mode": {
    "name": "ipython",
    "version": 3
   },
   "file_extension": ".py",
   "mimetype": "text/x-python",
   "name": "python",
   "nbconvert_exporter": "python",
   "pygments_lexer": "ipython3",
   "version": "3.9.15"
  }
 },
 "nbformat": 4,
 "nbformat_minor": 5
}
