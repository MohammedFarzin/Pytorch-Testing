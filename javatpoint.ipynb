{
 "cells": [
  {
   "cell_type": "markdown",
   "id": "c618c897",
   "metadata": {},
   "source": [
    "Create a pytorch tensor as an array\n"
   ]
  },
  {
   "cell_type": "code",
   "execution_count": 1,
   "id": "618e4c45",
   "metadata": {},
   "outputs": [
    {
     "data": {
      "text/plain": [
       "tensor([[3., 4.],\n",
       "        [8., 5.]])"
      ]
     },
     "execution_count": 1,
     "metadata": {},
     "output_type": "execute_result"
    }
   ],
   "source": [
    "import torch\n",
    "\n",
    "arr = [[3, 4], [8, 5]]   \n",
    "pyTensor = torch.Tensor(arr)\n",
    "pyTensor"
   ]
  },
  {
   "cell_type": "code",
   "execution_count": 2,
   "id": "8154daed",
   "metadata": {},
   "outputs": [
    {
     "data": {
      "text/plain": [
       "torch.Size([2, 2])"
      ]
     },
     "execution_count": 2,
     "metadata": {},
     "output_type": "execute_result"
    }
   ],
   "source": [
    "pyt_tensor = torch.ones((2,2))\n",
    "pyt_tensor.size()"
   ]
  },
  {
   "cell_type": "code",
   "execution_count": 3,
   "id": "c8cf31b2",
   "metadata": {},
   "outputs": [
    {
     "data": {
      "text/plain": [
       "tensor([1., 1., 1., 1.])"
      ]
     },
     "execution_count": 3,
     "metadata": {},
     "output_type": "execute_result"
    }
   ],
   "source": [
    "pyt_tensor = pyt_tensor.view(4)\n",
    "pyt_tensor"
   ]
  },
  {
   "cell_type": "code",
   "execution_count": null,
   "id": "98872a9f",
   "metadata": {},
   "outputs": [],
   "source": []
  },
  {
   "cell_type": "code",
   "execution_count": null,
   "id": "96f9b54f",
   "metadata": {},
   "outputs": [],
   "source": []
  }
 ],
 "metadata": {
  "kernelspec": {
   "display_name": "Python 3 (ipykernel)",
   "language": "python",
   "name": "python3"
  },
  "language_info": {
   "codemirror_mode": {
    "name": "ipython",
    "version": 3
   },
   "file_extension": ".py",
   "mimetype": "text/x-python",
   "name": "python",
   "nbconvert_exporter": "python",
   "pygments_lexer": "ipython3",
   "version": "3.9.15"
  }
 },
 "nbformat": 4,
 "nbformat_minor": 5
}
